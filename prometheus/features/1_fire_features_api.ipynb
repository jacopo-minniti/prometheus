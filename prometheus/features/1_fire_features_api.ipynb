{
  "cells": [
    {
      "cell_type": "markdown",
      "metadata": {
        "id": "__vMAhtHEHXL"
      },
      "source": [
        "# Fire Spot Features\n",
        "Source: [NASA FIRMS API](https://firms.modaps.eosdis.nasa.gov/api/)"
      ]
    },
    {
      "cell_type": "markdown",
      "metadata": {},
      "source": [
        "## Imports"
      ]
    },
    {
      "cell_type": "code",
      "execution_count": 2,
      "metadata": {
        "id": "omvMAq7aVq0v"
      },
      "outputs": [],
      "source": [
        "import numpy as np\n",
        "import pandas as pd\n",
        "import math\n",
        "import requests\n",
        "import matplotlib.pyplot as plt\n",
        "import seaborn as sns\n",
        "import pandas as pd\n",
        "from io import StringIO\n",
        "import datetime as dt\n",
        "from pathlib import Path"
      ]
    },
    {
      "cell_type": "markdown",
      "metadata": {
        "id": "cPK25GljEeiT"
      },
      "source": [
        "## API Connection\n"
      ]
    },
    {
      "cell_type": "markdown",
      "metadata": {
        "id": "4y2qLs9yEqSr"
      },
      "source": [
        "Connecting the database on real time fire data from NASA FIRMS.\n",
        "\n",
        "Instructions: input information below based on the parameters from the last active session on the FIRMS API.\n",
        "\n",
        "Access to the API key: [API Key](https://https://firms.modaps.eosdis.nasa.gov/api/)\n"
      ]
    },
    {
      "cell_type": "code",
      "execution_count": null,
      "metadata": {
        "colab": {
          "base_uri": "https://localhost:8080/"
        },
        "id": "pNbAPFkCWWDk",
        "outputId": "0d22c0eb-38af-4b8f-b762-a1f295637f57"
      },
      "outputs": [
        {
          "name": "stdout",
          "output_type": "stream",
          "text": [
            "  country_id  latitude  longitude  bright_ti4  scan  track    acq_date  \\\n",
            "0        USA  19.39648 -155.28795      328.52  0.53    0.5  2025-01-05   \n",
            "1        USA  19.39706 -155.28281      329.05  0.53    0.5  2025-01-05   \n",
            "2        USA  19.40052 -155.29370      337.20  0.53    0.5  2025-01-05   \n",
            "3        USA  19.40112 -155.28838      354.98  0.53    0.5  2025-01-05   \n",
            "4        USA  19.40170 -155.28322      356.35  0.53    0.5  2025-01-05   \n",
            "\n",
            "   acq_time satellite instrument confidence version  bright_ti5    frp  \\\n",
            "0         2       N20      VIIRS          n  2.0NRT      294.68   5.03   \n",
            "1         2       N20      VIIRS          n  2.0NRT      297.70   5.03   \n",
            "2         2       N20      VIIRS          n  2.0NRT      302.34  20.00   \n",
            "3         2       N20      VIIRS          n  2.0NRT      313.49  32.27   \n",
            "4         2       N20      VIIRS          l  2.0NRT      297.77  32.27   \n",
            "\n",
            "  daynight  \n",
            "0        D  \n",
            "1        D  \n",
            "2        D  \n",
            "3        D  \n",
            "4        D  \n"
          ]
        }
      ],
      "source": [
        "MAP_KEY = \"[KEY]\"\n",
        "SOURCE = \"VIIRS_NOAA20_NRT\"\n",
        "COUNTRY_ID = \"USA\"\n",
        "DAY_RANGE = 10\n",
        "START_DATE = \"2025-01-05\"\n",
        "\n",
        "base_url = \"https://firms.modaps.eosdis.nasa.gov/api/country/csv\"\n",
        "url = f\"{base_url}/{MAP_KEY}/{SOURCE}/{COUNTRY_ID}/{DAY_RANGE}/{START_DATE}\"\n",
        "response = requests.get(url)\n",
        "\n",
        "# Check if the request was successful\n",
        "if response.status_code == 200:\n",
        "    # Print the first few lines of the CSV data\n",
        "    # Adjust the number to display more or fewer characters\n",
        "\n",
        "    try:\n",
        "        # Parse the CSV data into a Pandas DataFrame\n",
        "        firms_df = pd.read_csv(StringIO(response.text))\n",
        "\n",
        "        # Print the DataFrame\n",
        "        print(firms_df.head())\n",
        "    except pd.errors.ParserError as e:\n",
        "        print(f\"ParserError: {e}\")\n",
        "else:\n",
        "    # Print an error message if the request was not successful\n",
        "    print(f\"Error: {response.status_code}\")"
      ]
    },
    {
      "cell_type": "markdown",
      "metadata": {},
      "source": [
        "## Datetime Conversion"
      ]
    },
    {
      "cell_type": "code",
      "execution_count": null,
      "metadata": {},
      "outputs": [],
      "source": [
        "# Convert acq_time to a 4-digit string (e.g., '841' -> '0841')\n",
        "firms_df['acq_time'] = firms_df['acq_time'].astype(str).str.zfill(4)\n",
        "\n",
        "# Create a new datetime column by combining acq_date and acq_time\n",
        "firms_df['datetime'] = pd.to_datetime(\n",
        "    firms_df['acq_date'] + ' ' + \n",
        "    firms_df['acq_time'].str.slice(0, 2) + ':' + \n",
        "    firms_df['acq_time'].str.slice(2, 4),\n",
        "    format=\"%Y-%m-%d %H:%M\"\n",
        ")"
      ]
    },
    {
      "cell_type": "markdown",
      "metadata": {},
      "source": [
        "## Coordinate Filtering\n",
        "Create bounding box for north, south, west and east directions. Examples below\n",
        "\n",
        "Find bounding box coordinates: [bboxfinder](http://bboxfinder.com/#0.000000,0.000000,0.000000,0.000000)"
      ]
    },
    {
      "cell_type": "code",
      "execution_count": null,
      "metadata": {
        "colab": {
          "base_uri": "https://localhost:8080/",
          "height": 617
        },
        "id": "rAQ8KSouyFcc",
        "outputId": "02aa5a66-ace7-4802-89dc-ef8f42b41723"
      },
      "outputs": [],
      "source": [
        "# LA Bounding Box\n",
        "firms_df_la = firms_df[\n",
        "    (firms_df['latitude'] >= 32) &\n",
        "    (firms_df['latitude'] <= 36) &\n",
        "    (firms_df['longitude'] >= -120) &\n",
        "    (firms_df['longitude'] <= -116)\n",
        "]\n",
        "\n",
        "# California Bounding Box \n",
        "firms_df_ca = firms_df[\n",
        "    (firms_df['latitude'] >= 32.5343) &\n",
        "    (firms_df['latitude'] <= 42.0095) &\n",
        "    (firms_df['longitude'] >= -124.4096) &\n",
        "    (firms_df['longitude'] <= -114.1315)\n",
        "]"
      ]
    },
    {
      "cell_type": "markdown",
      "metadata": {},
      "source": [
        "### Save Dataset"
      ]
    },
    {
      "cell_type": "code",
      "execution_count": null,
      "metadata": {},
      "outputs": [],
      "source": [
        "# As .csv file\n",
        "output_path = Path(\"../fire_data/firms_df_ca.csv\")\n",
        "# Ensure that the parent directories exist\n",
        "output_path.parent.mkdir(parents=True, exist_ok=True)\n",
        "firms_df_ca.to_csv(output_path, index=False)"
      ]
    }
  ],
  "metadata": {
    "colab": {
      "provenance": []
    },
    "kernelspec": {
      "display_name": "prometheus",
      "language": "python",
      "name": "python3"
    },
    "language_info": {
      "codemirror_mode": {
        "name": "ipython",
        "version": 3
      },
      "file_extension": ".py",
      "mimetype": "text/x-python",
      "name": "python",
      "nbconvert_exporter": "python",
      "pygments_lexer": "ipython3",
      "version": "3.11.8"
    }
  },
  "nbformat": 4,
  "nbformat_minor": 0
}
